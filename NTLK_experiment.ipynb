{
  "cells": [
    {
      "cell_type": "markdown",
      "metadata": {
        "id": "view-in-github",
        "colab_type": "text"
      },
      "source": [
        "<a href=\"https://colab.research.google.com/github/zohansyahfatomi/random-projects/blob/main/NTLK_experiment.ipynb\" target=\"_parent\"><img src=\"https://colab.research.google.com/assets/colab-badge.svg\" alt=\"Open In Colab\"/></a>"
      ]
    },
    {
      "cell_type": "markdown",
      "metadata": {
        "id": "xFQh9gGhf_Ib"
      },
      "source": [
        "## RANDOM TASK USING NLTK\n",
        "\n",
        "### Feed the following paragraph into your favourite data analytics tool, and answer the following;\n",
        "'''\n",
        "As a term, data analytics predominantly refers to an assortment of applications, from basic\n",
        "business intelligence (BI), reporting and online analytical processing (OLAP) to various forms of\n",
        "advanced analytics. In that sense, it's similar in nature to business analytics, another umbrella\n",
        "term for approaches to analyzing data -- with the difference that the latter is oriented to\n",
        "business uses, while data analytics has a broader focus. The expansive view of the term isn't\n",
        "universal, though: In some cases, people use data analytics specifically to mean advanced\n",
        "analytics, treating BI as a separate category. Data analytics initiatives can help businesses\n",
        "increase revenues, improve operational efficiency, optimize marketing campaigns and customer\n",
        "service efforts, respond more quickly to emerging market trends and gain a competitive edge\n",
        "over rivals -- all with the ultimate goal of boosting business performance. Depending on the\n",
        "particular application, the data that's analyzed can consist of either historical records or new\n",
        "information that has been processed for real-time analytics uses. In addition, it can come from a\n",
        "mix of internal systems and external data sources. At a high level, data analytics methodologies\n",
        "include exploratory data analysis (EDA), which aims to find patterns and relationships in data,\n",
        "and confirmatory data analysis (CDA), which applies statistical techniques to determine whether\n",
        "hypotheses about a data set are true or false. EDA is often compared to detective work, while\n",
        "CDA is akin to the work of a judge or jury during a court trial -- a distinction first drawn by\n",
        "statistician John W. Tukey in his 1977 book Exploratory Data Analysis. Data analytics can also\n",
        "be separated into quantitative data analysis and qualitative data analysis. The former involves\n",
        "analysis of numerical data with quantifiable variables that can be compared or measured\n",
        "statistically. The qualitative approach is more interpretive -- it focuses on understanding the\n",
        "content of non-numerical data like text, images, audio and video, including common phrases,\n",
        "themes and points of view.\n",
        "'''\n",
        "\n",
        "- a. What is the probability of the word “data” occurring in each line ?\n",
        "- b. What is the distribution of distinct word counts across all the lines ?\n",
        "- c. What is the probability of the word “analytics” occurring after the word “data” ?\n"
      ]
    },
    {
      "cell_type": "markdown",
      "metadata": {
        "id": "SzBe90Cyf_Ig"
      },
      "source": [
        "## A. Lets get to work - figure out this -> What is the probability of the word “data” occurring in each line ?\n",
        "- 1. We shall first figure out the word counts,\n",
        "- 2. find the number of lines\n",
        "- 3. find the number of times the word data appears in the text.\n",
        "- 4. calculate the probability"
      ]
    },
    {
      "cell_type": "code",
      "execution_count": 1,
      "metadata": {
        "id": "M_3kr-IVf_Ih"
      },
      "outputs": [],
      "source": [
        "# Start with importing libraries\n",
        "import re\n",
        "from collections import Counter\n",
        "import pandas as pd\n",
        "import nltk\n",
        "from sklearn.feature_extraction.text import CountVectorizer, TfidfVectorizer\n",
        "from nltk.corpus import stopwords\n",
        "from nltk.tokenize import word_tokenize"
      ]
    },
    {
      "cell_type": "code",
      "execution_count": 2,
      "metadata": {
        "colab": {
          "base_uri": "https://localhost:8080/"
        },
        "id": "E62uQ8Uqf_Ij",
        "outputId": "914fe3ad-53df-404c-e830-35814efda3f4"
      },
      "outputs": [
        {
          "output_type": "stream",
          "name": "stdout",
          "text": [
            "As a term, data analytics predominantly refers to an assortment of applications, from basic \n",
            "business intelligence (BI), reporting and online analytical processing (OLAP) to various forms of \n",
            "advanced analytics. In that sense, it's similar in nature to business analytics, another umbrella \n",
            "term for approaches to analyzing data -- with the difference that the latter is oriented to \n",
            "business uses, while data analytics has a broader focus. The expansive view of the term isn't \n",
            "universal, though: In some cases, people use data analytics specifically to mean advanced \n",
            "analytics, treating BI as a separate category. Data analytics initiatives can help businesses \n",
            "increase revenues, improve operational efficiency, optimize marketing campaigns and customer \n",
            "service efforts, respond more quickly to emerging market trends and gain a competitive edge \n",
            "over rivals -- all with the ultimate goal of boosting business performance. Depending on the \n",
            "particular application, the data that's analyzed can consist of either historical records or new \n",
            "information that has been processed for real-time analytics uses. In addition, it can come from a \n",
            "mix of internal systems and external data sources. At a high level, data analytics methodologies \n",
            "include exploratory data analysis (EDA), which aims to find patterns and relationships in data, \n",
            "and confirmatory data analysis (CDA), which applies statistical techniques to determine whether \n",
            "hypotheses about a data set are true or false. EDA is often compared to detective work, while \n",
            "CDA is akin to the work of a judge or jury during a court trial -- a distinction first drawn by \n",
            "statistician John W. Tukey in his 1977 book Exploratory Data Analysis. Data analytics can also \n",
            "be separated into quantitative data analysis and qualitative data analysis. The former involves \n",
            "analysis of numerical data with quantifiable variables that can be compared or measured \n",
            "statistically. The qualitative approach is more interpretive -- it focuses on understanding the \n",
            "content of non-numerical data like text, images, audio and video, including common phrases, \n",
            "themes and points of view.\n"
          ]
        }
      ],
      "source": [
        "given_string = \"\"\"As a term, data analytics predominantly refers to an assortment of applications, from basic \\nbusiness intelligence (BI), reporting and online analytical processing (OLAP) to various forms of \\nadvanced analytics. In that sense, it's similar in nature to business analytics, another umbrella \\nterm for approaches to analyzing data -- with the difference that the latter is oriented to \\nbusiness uses, while data analytics has a broader focus. The expansive view of the term isn't \\nuniversal, though: In some cases, people use data analytics specifically to mean advanced \\nanalytics, treating BI as a separate category. Data analytics initiatives can help businesses \\nincrease revenues, improve operational efficiency, optimize marketing campaigns and customer \\nservice efforts, respond more quickly to emerging market trends and gain a competitive edge \\nover rivals -- all with the ultimate goal of boosting business performance. Depending on the \\nparticular application, the data that's analyzed can consist of either historical records or new \\ninformation that has been processed for real-time analytics uses. In addition, it can come from a \\nmix of internal systems and external data sources. At a high level, data analytics methodologies \\ninclude exploratory data analysis (EDA), which aims to find patterns and relationships in data, \\nand confirmatory data analysis (CDA), which applies statistical techniques to determine whether \\nhypotheses about a data set are true or false. EDA is often compared to detective work, while \\nCDA is akin to the work of a judge or jury during a court trial -- a distinction first drawn by \\nstatistician John W. Tukey in his 1977 book Exploratory Data Analysis. Data analytics can also \\nbe separated into quantitative data analysis and qualitative data analysis. The former involves \\nanalysis of numerical data with quantifiable variables that can be compared or measured \\nstatistically. The qualitative approach is more interpretive -- it focuses on understanding the \\ncontent of non-numerical data like text, images, audio and video, including common phrases, \\nthemes and points of view.\"\"\"\n",
        "print(given_string)"
      ]
    },
    {
      "cell_type": "code",
      "execution_count": 3,
      "metadata": {
        "id": "SqqMhRoff_Im"
      },
      "outputs": [],
      "source": [
        "given_string = given_string.lower()"
      ]
    },
    {
      "cell_type": "code",
      "execution_count": 4,
      "metadata": {
        "id": "JtDWQnKff_Im"
      },
      "outputs": [],
      "source": [
        "line_list = given_string.splitlines()"
      ]
    },
    {
      "cell_type": "code",
      "execution_count": 5,
      "metadata": {
        "colab": {
          "base_uri": "https://localhost:8080/"
        },
        "id": "gh5sGvIzf_In",
        "outputId": "249b52af-0dcd-4da4-a090-43bbca514ba5"
      },
      "outputs": [
        {
          "output_type": "execute_result",
          "data": {
            "text/plain": [
              "23"
            ]
          },
          "metadata": {},
          "execution_count": 5
        }
      ],
      "source": [
        "nlines = len(line_list)\n",
        "nlines"
      ]
    },
    {
      "cell_type": "code",
      "execution_count": 6,
      "metadata": {
        "id": "fzYvHB0Ff_In"
      },
      "outputs": [],
      "source": [
        "def tokenize(string):\n",
        "    return re.compile('\\w+').findall(string)\n",
        "\n",
        "def word_freq(string):\n",
        "    text = tokenize(string.lower())\n",
        "    c = Counter(text)           # count the words\n",
        "    d = Counter(''.join(text))  # count all letters\n",
        "    return (dict(c))    # return a tuple of counted words and letters\n",
        "\n",
        "def return_word_freq(string):\n",
        "    text = tokenize(string.lower())\n",
        "    c = Counter(text)           # count the words\n",
        "    d = Counter(''.join(text))  # count all letters\n",
        "    return (dict(c), dict(d))    # return a tuple of counted words and letters\n",
        "\n",
        "words = word_freq(given_string) # count and get dicts with counts\n",
        "words_, letters = return_word_freq(given_string)\n",
        "\n",
        "sumWords = sum(words.values())       # sum total words\n",
        "sumLetters = sum(letters.values())   # sum total letters\n",
        "\n"
      ]
    },
    {
      "cell_type": "code",
      "execution_count": 7,
      "metadata": {
        "colab": {
          "base_uri": "https://localhost:8080/"
        },
        "id": "cgmG_zWmf_Io",
        "outputId": "6a97e803-d9f3-4cb3-9791-4447684189be"
      },
      "outputs": [
        {
          "output_type": "execute_result",
          "data": {
            "text/plain": [
              "194"
            ]
          },
          "metadata": {},
          "execution_count": 7
        }
      ],
      "source": [
        "len(words)"
      ]
    },
    {
      "cell_type": "code",
      "execution_count": 8,
      "metadata": {
        "colab": {
          "base_uri": "https://localhost:8080/"
        },
        "id": "l-67_U_Zf_Io",
        "outputId": "bf55b153-c5bd-41d6-f459-0f6f239a4565"
      },
      "outputs": [
        {
          "output_type": "execute_result",
          "data": {
            "text/plain": [
              "{'a': 10, 'data': 18, 'analytics': 10, 'to': 11, 'of': 10, 'and': 9, 'the': 11}"
            ]
          },
          "metadata": {},
          "execution_count": 8
        }
      ],
      "source": [
        "{k:v for (k,v) in words.items() if v>8 }"
      ]
    },
    {
      "cell_type": "code",
      "execution_count": 9,
      "metadata": {
        "id": "BHrXI1Ntf_Ip"
      },
      "outputs": [],
      "source": [
        "# The probability of an event A is the number of ways event A can occur divided by the total number of possible outcomes.\n",
        "data_count = words['data']\n",
        "analytics_count = words['analytics']"
      ]
    },
    {
      "cell_type": "code",
      "execution_count": 10,
      "metadata": {
        "id": "FidoUO-Vf_Ip"
      },
      "outputs": [],
      "source": [
        "probablity_of_data_appearing_in_every_line = data_count/nlines"
      ]
    },
    {
      "cell_type": "code",
      "execution_count": 11,
      "metadata": {
        "colab": {
          "base_uri": "https://localhost:8080/"
        },
        "id": "TSf-1GxUf_Ip",
        "outputId": "28c6eda9-7794-4538-8d3d-ae97c1cb4ce9"
      },
      "outputs": [
        {
          "output_type": "execute_result",
          "data": {
            "text/plain": [
              "0.782608695652174"
            ]
          },
          "metadata": {},
          "execution_count": 11
        }
      ],
      "source": [
        "probablity_of_data_appearing_in_every_line"
      ]
    },
    {
      "cell_type": "code",
      "execution_count": 12,
      "metadata": {
        "id": "hr07GMXpf_Iq"
      },
      "outputs": [],
      "source": [
        "# GOT IT ! 0.78 it is......"
      ]
    },
    {
      "cell_type": "code",
      "execution_count": 13,
      "metadata": {
        "id": "pQckCIzvf_Iq"
      },
      "outputs": [],
      "source": [
        "probablity_of_data_appearing_in_full_text = data_count/sumWords"
      ]
    },
    {
      "cell_type": "code",
      "execution_count": 14,
      "metadata": {
        "colab": {
          "base_uri": "https://localhost:8080/"
        },
        "id": "bp2Ue45wf_Iq",
        "outputId": "c53a4615-b9c8-4288-8f4d-0ccb1a16b0a7"
      },
      "outputs": [
        {
          "output_type": "execute_result",
          "data": {
            "text/plain": [
              "0.05625"
            ]
          },
          "metadata": {},
          "execution_count": 14
        }
      ],
      "source": [
        "probablity_of_data_appearing_in_full_text"
      ]
    },
    {
      "cell_type": "markdown",
      "metadata": {
        "id": "8k5a1O8ef_Ir"
      },
      "source": [
        "## B. Now figure out this -> What is the distribution of distinct word counts across all the lines ?\n",
        "- 1. We shall first figure out the distinct word counts in every line,\n",
        "- 2. Create a histogram, bar plot or something similar to see the distribution."
      ]
    },
    {
      "cell_type": "code",
      "execution_count": 15,
      "metadata": {
        "id": "IEqy_bPof_Ir"
      },
      "outputs": [],
      "source": [
        "line_unique_counts = []\n",
        "for line in line_list:\n",
        "    line_unique_counts.append(len(word_freq(line)))"
      ]
    },
    {
      "cell_type": "code",
      "execution_count": 16,
      "metadata": {
        "colab": {
          "base_uri": "https://localhost:8080/"
        },
        "id": "9jRe5f1Rf_Ir",
        "outputId": "3eb65e4e-bd93-40fe-99f3-fad6f795aed8"
      },
      "outputs": [
        {
          "output_type": "execute_result",
          "data": {
            "text/plain": [
              "[14,\n",
              " 13,\n",
              " 13,\n",
              " 13,\n",
              " 16,\n",
              " 13,\n",
              " 12,\n",
              " 10,\n",
              " 14,\n",
              " 13,\n",
              " 15,\n",
              " 17,\n",
              " 14,\n",
              " 13,\n",
              " 12,\n",
              " 17,\n",
              " 18,\n",
              " 14,\n",
              " 11,\n",
              " 13,\n",
              " 11,\n",
              " 14,\n",
              " 5]"
            ]
          },
          "metadata": {},
          "execution_count": 16
        }
      ],
      "source": [
        "line_unique_counts"
      ]
    },
    {
      "cell_type": "code",
      "execution_count": 17,
      "metadata": {
        "id": "74eZvKwZf_Is"
      },
      "outputs": [],
      "source": [
        "df_unique_words = pd.DataFrame(line_unique_counts)"
      ]
    },
    {
      "cell_type": "code",
      "execution_count": 18,
      "metadata": {
        "colab": {
          "base_uri": "https://localhost:8080/",
          "height": 771
        },
        "id": "RxtT62jXf_Is",
        "outputId": "365bd7ad-a1df-473b-ef93-2d8339864965"
      },
      "outputs": [
        {
          "output_type": "execute_result",
          "data": {
            "text/plain": [
              "    Unique_Words\n",
              "0             14\n",
              "1             13\n",
              "2             13\n",
              "3             13\n",
              "4             16\n",
              "5             13\n",
              "6             12\n",
              "7             10\n",
              "8             14\n",
              "9             13\n",
              "10            15\n",
              "11            17\n",
              "12            14\n",
              "13            13\n",
              "14            12\n",
              "15            17\n",
              "16            18\n",
              "17            14\n",
              "18            11\n",
              "19            13\n",
              "20            11\n",
              "21            14\n",
              "22             5"
            ],
            "text/html": [
              "\n",
              "\n",
              "  <div id=\"df-876111b6-4217-4e19-bc28-52d57b43ad4e\">\n",
              "    <div class=\"colab-df-container\">\n",
              "      <div>\n",
              "<style scoped>\n",
              "    .dataframe tbody tr th:only-of-type {\n",
              "        vertical-align: middle;\n",
              "    }\n",
              "\n",
              "    .dataframe tbody tr th {\n",
              "        vertical-align: top;\n",
              "    }\n",
              "\n",
              "    .dataframe thead th {\n",
              "        text-align: right;\n",
              "    }\n",
              "</style>\n",
              "<table border=\"1\" class=\"dataframe\">\n",
              "  <thead>\n",
              "    <tr style=\"text-align: right;\">\n",
              "      <th></th>\n",
              "      <th>Unique_Words</th>\n",
              "    </tr>\n",
              "  </thead>\n",
              "  <tbody>\n",
              "    <tr>\n",
              "      <th>0</th>\n",
              "      <td>14</td>\n",
              "    </tr>\n",
              "    <tr>\n",
              "      <th>1</th>\n",
              "      <td>13</td>\n",
              "    </tr>\n",
              "    <tr>\n",
              "      <th>2</th>\n",
              "      <td>13</td>\n",
              "    </tr>\n",
              "    <tr>\n",
              "      <th>3</th>\n",
              "      <td>13</td>\n",
              "    </tr>\n",
              "    <tr>\n",
              "      <th>4</th>\n",
              "      <td>16</td>\n",
              "    </tr>\n",
              "    <tr>\n",
              "      <th>5</th>\n",
              "      <td>13</td>\n",
              "    </tr>\n",
              "    <tr>\n",
              "      <th>6</th>\n",
              "      <td>12</td>\n",
              "    </tr>\n",
              "    <tr>\n",
              "      <th>7</th>\n",
              "      <td>10</td>\n",
              "    </tr>\n",
              "    <tr>\n",
              "      <th>8</th>\n",
              "      <td>14</td>\n",
              "    </tr>\n",
              "    <tr>\n",
              "      <th>9</th>\n",
              "      <td>13</td>\n",
              "    </tr>\n",
              "    <tr>\n",
              "      <th>10</th>\n",
              "      <td>15</td>\n",
              "    </tr>\n",
              "    <tr>\n",
              "      <th>11</th>\n",
              "      <td>17</td>\n",
              "    </tr>\n",
              "    <tr>\n",
              "      <th>12</th>\n",
              "      <td>14</td>\n",
              "    </tr>\n",
              "    <tr>\n",
              "      <th>13</th>\n",
              "      <td>13</td>\n",
              "    </tr>\n",
              "    <tr>\n",
              "      <th>14</th>\n",
              "      <td>12</td>\n",
              "    </tr>\n",
              "    <tr>\n",
              "      <th>15</th>\n",
              "      <td>17</td>\n",
              "    </tr>\n",
              "    <tr>\n",
              "      <th>16</th>\n",
              "      <td>18</td>\n",
              "    </tr>\n",
              "    <tr>\n",
              "      <th>17</th>\n",
              "      <td>14</td>\n",
              "    </tr>\n",
              "    <tr>\n",
              "      <th>18</th>\n",
              "      <td>11</td>\n",
              "    </tr>\n",
              "    <tr>\n",
              "      <th>19</th>\n",
              "      <td>13</td>\n",
              "    </tr>\n",
              "    <tr>\n",
              "      <th>20</th>\n",
              "      <td>11</td>\n",
              "    </tr>\n",
              "    <tr>\n",
              "      <th>21</th>\n",
              "      <td>14</td>\n",
              "    </tr>\n",
              "    <tr>\n",
              "      <th>22</th>\n",
              "      <td>5</td>\n",
              "    </tr>\n",
              "  </tbody>\n",
              "</table>\n",
              "</div>\n",
              "      <button class=\"colab-df-convert\" onclick=\"convertToInteractive('df-876111b6-4217-4e19-bc28-52d57b43ad4e')\"\n",
              "              title=\"Convert this dataframe to an interactive table.\"\n",
              "              style=\"display:none;\">\n",
              "\n",
              "  <svg xmlns=\"http://www.w3.org/2000/svg\" height=\"24px\"viewBox=\"0 0 24 24\"\n",
              "       width=\"24px\">\n",
              "    <path d=\"M0 0h24v24H0V0z\" fill=\"none\"/>\n",
              "    <path d=\"M18.56 5.44l.94 2.06.94-2.06 2.06-.94-2.06-.94-.94-2.06-.94 2.06-2.06.94zm-11 1L8.5 8.5l.94-2.06 2.06-.94-2.06-.94L8.5 2.5l-.94 2.06-2.06.94zm10 10l.94 2.06.94-2.06 2.06-.94-2.06-.94-.94-2.06-.94 2.06-2.06.94z\"/><path d=\"M17.41 7.96l-1.37-1.37c-.4-.4-.92-.59-1.43-.59-.52 0-1.04.2-1.43.59L10.3 9.45l-7.72 7.72c-.78.78-.78 2.05 0 2.83L4 21.41c.39.39.9.59 1.41.59.51 0 1.02-.2 1.41-.59l7.78-7.78 2.81-2.81c.8-.78.8-2.07 0-2.86zM5.41 20L4 18.59l7.72-7.72 1.47 1.35L5.41 20z\"/>\n",
              "  </svg>\n",
              "      </button>\n",
              "\n",
              "\n",
              "\n",
              "    <div id=\"df-f2b1f247-0bf0-4d8e-9098-6a96ab43dc9f\">\n",
              "      <button class=\"colab-df-quickchart\" onclick=\"quickchart('df-f2b1f247-0bf0-4d8e-9098-6a96ab43dc9f')\"\n",
              "              title=\"Suggest charts.\"\n",
              "              style=\"display:none;\">\n",
              "\n",
              "<svg xmlns=\"http://www.w3.org/2000/svg\" height=\"24px\"viewBox=\"0 0 24 24\"\n",
              "     width=\"24px\">\n",
              "    <g>\n",
              "        <path d=\"M19 3H5c-1.1 0-2 .9-2 2v14c0 1.1.9 2 2 2h14c1.1 0 2-.9 2-2V5c0-1.1-.9-2-2-2zM9 17H7v-7h2v7zm4 0h-2V7h2v10zm4 0h-2v-4h2v4z\"/>\n",
              "    </g>\n",
              "</svg>\n",
              "      </button>\n",
              "    </div>\n",
              "\n",
              "<style>\n",
              "  .colab-df-quickchart {\n",
              "    background-color: #E8F0FE;\n",
              "    border: none;\n",
              "    border-radius: 50%;\n",
              "    cursor: pointer;\n",
              "    display: none;\n",
              "    fill: #1967D2;\n",
              "    height: 32px;\n",
              "    padding: 0 0 0 0;\n",
              "    width: 32px;\n",
              "  }\n",
              "\n",
              "  .colab-df-quickchart:hover {\n",
              "    background-color: #E2EBFA;\n",
              "    box-shadow: 0px 1px 2px rgba(60, 64, 67, 0.3), 0px 1px 3px 1px rgba(60, 64, 67, 0.15);\n",
              "    fill: #174EA6;\n",
              "  }\n",
              "\n",
              "  [theme=dark] .colab-df-quickchart {\n",
              "    background-color: #3B4455;\n",
              "    fill: #D2E3FC;\n",
              "  }\n",
              "\n",
              "  [theme=dark] .colab-df-quickchart:hover {\n",
              "    background-color: #434B5C;\n",
              "    box-shadow: 0px 1px 3px 1px rgba(0, 0, 0, 0.15);\n",
              "    filter: drop-shadow(0px 1px 2px rgba(0, 0, 0, 0.3));\n",
              "    fill: #FFFFFF;\n",
              "  }\n",
              "</style>\n",
              "\n",
              "    <script>\n",
              "      async function quickchart(key) {\n",
              "        const containerElement = document.querySelector('#' + key);\n",
              "        const charts = await google.colab.kernel.invokeFunction(\n",
              "            'suggestCharts', [key], {});\n",
              "      }\n",
              "    </script>\n",
              "\n",
              "      <script>\n",
              "\n",
              "function displayQuickchartButton(domScope) {\n",
              "  let quickchartButtonEl =\n",
              "    domScope.querySelector('#df-f2b1f247-0bf0-4d8e-9098-6a96ab43dc9f button.colab-df-quickchart');\n",
              "  quickchartButtonEl.style.display =\n",
              "    google.colab.kernel.accessAllowed ? 'block' : 'none';\n",
              "}\n",
              "\n",
              "        displayQuickchartButton(document);\n",
              "      </script>\n",
              "      <style>\n",
              "    .colab-df-container {\n",
              "      display:flex;\n",
              "      flex-wrap:wrap;\n",
              "      gap: 12px;\n",
              "    }\n",
              "\n",
              "    .colab-df-convert {\n",
              "      background-color: #E8F0FE;\n",
              "      border: none;\n",
              "      border-radius: 50%;\n",
              "      cursor: pointer;\n",
              "      display: none;\n",
              "      fill: #1967D2;\n",
              "      height: 32px;\n",
              "      padding: 0 0 0 0;\n",
              "      width: 32px;\n",
              "    }\n",
              "\n",
              "    .colab-df-convert:hover {\n",
              "      background-color: #E2EBFA;\n",
              "      box-shadow: 0px 1px 2px rgba(60, 64, 67, 0.3), 0px 1px 3px 1px rgba(60, 64, 67, 0.15);\n",
              "      fill: #174EA6;\n",
              "    }\n",
              "\n",
              "    [theme=dark] .colab-df-convert {\n",
              "      background-color: #3B4455;\n",
              "      fill: #D2E3FC;\n",
              "    }\n",
              "\n",
              "    [theme=dark] .colab-df-convert:hover {\n",
              "      background-color: #434B5C;\n",
              "      box-shadow: 0px 1px 3px 1px rgba(0, 0, 0, 0.15);\n",
              "      filter: drop-shadow(0px 1px 2px rgba(0, 0, 0, 0.3));\n",
              "      fill: #FFFFFF;\n",
              "    }\n",
              "  </style>\n",
              "\n",
              "      <script>\n",
              "        const buttonEl =\n",
              "          document.querySelector('#df-876111b6-4217-4e19-bc28-52d57b43ad4e button.colab-df-convert');\n",
              "        buttonEl.style.display =\n",
              "          google.colab.kernel.accessAllowed ? 'block' : 'none';\n",
              "\n",
              "        async function convertToInteractive(key) {\n",
              "          const element = document.querySelector('#df-876111b6-4217-4e19-bc28-52d57b43ad4e');\n",
              "          const dataTable =\n",
              "            await google.colab.kernel.invokeFunction('convertToInteractive',\n",
              "                                                     [key], {});\n",
              "          if (!dataTable) return;\n",
              "\n",
              "          const docLinkHtml = 'Like what you see? Visit the ' +\n",
              "            '<a target=\"_blank\" href=https://colab.research.google.com/notebooks/data_table.ipynb>data table notebook</a>'\n",
              "            + ' to learn more about interactive tables.';\n",
              "          element.innerHTML = '';\n",
              "          dataTable['output_type'] = 'display_data';\n",
              "          await google.colab.output.renderOutput(dataTable, element);\n",
              "          const docLink = document.createElement('div');\n",
              "          docLink.innerHTML = docLinkHtml;\n",
              "          element.appendChild(docLink);\n",
              "        }\n",
              "      </script>\n",
              "    </div>\n",
              "  </div>\n"
            ]
          },
          "metadata": {},
          "execution_count": 18
        }
      ],
      "source": [
        "df_unique_words.rename(columns={0: \"Unique_Words\"})"
      ]
    },
    {
      "cell_type": "code",
      "execution_count": 19,
      "metadata": {
        "id": "uml1XgKRf_Is"
      },
      "outputs": [],
      "source": [
        "import seaborn as sns"
      ]
    },
    {
      "cell_type": "code",
      "execution_count": 20,
      "metadata": {
        "colab": {
          "base_uri": "https://localhost:8080/",
          "height": 621
        },
        "id": "HZPXl03Nf_It",
        "outputId": "cf1db6aa-d995-4b03-cd4b-b81bd0d4cf3e"
      },
      "outputs": [
        {
          "output_type": "stream",
          "name": "stderr",
          "text": [
            "<ipython-input-20-621e99acd252>:1: UserWarning: \n",
            "\n",
            "`distplot` is a deprecated function and will be removed in seaborn v0.14.0.\n",
            "\n",
            "Please adapt your code to use either `displot` (a figure-level function with\n",
            "similar flexibility) or `histplot` (an axes-level function for histograms).\n",
            "\n",
            "For a guide to updating your code to use the new functions, please see\n",
            "https://gist.github.com/mwaskom/de44147ed2974457ad6372750bbe5751\n",
            "\n",
            "  sns.distplot(df_unique_words, kde=True, rug=True);\n"
          ]
        },
        {
          "output_type": "display_data",
          "data": {
            "text/plain": [
              "<Figure size 640x480 with 1 Axes>"
            ],
            "image/png": "[encoded data removed]"
          },
          "metadata": {}
        }
      ],
      "source": [
        "sns.distplot(df_unique_words, kde=True, rug=True);"
      ]
    },
    {
      "cell_type": "code",
      "execution_count": 21,
      "metadata": {
        "id": "9qOI0_w6f_It"
      },
      "outputs": [],
      "source": [
        "# NORMALLY DISTRIBUTED - to an extent."
      ]
    },
    {
      "cell_type": "markdown",
      "metadata": {
        "id": "EFn7FS8qf_Iu"
      },
      "source": [
        "## C. Finally time to figure out this -> What is the probability of the word “analytics” occurring after the word “data” ?\n",
        "- 1. Lets create the bigrams,\n",
        "- 2. find their counts\n",
        "- 3. find \"data analytics\" and only \"analytics\" counts\n",
        "- 4. Calculate the probability."
      ]
    },
    {
      "cell_type": "code",
      "execution_count": 25,
      "metadata": {
        "colab": {
          "base_uri": "https://localhost:8080/"
        },
        "id": "cJG1zl9gf_Iu",
        "outputId": "1945c937-8a29-46ae-fdb9-c50b492e7d80"
      },
      "outputs": [
        {
          "output_type": "stream",
          "name": "stdout",
          "text": [
            "\n",
            "\n",
            "Words : \n",
            "                  term      rank\n",
            "80     data analytics  1.121468\n",
            "79      data analysis  1.074633\n",
            "100  exploratory data  0.509671\n",
            "159    numerical data  0.507052\n",
            "235        themes and  0.500000\n",
            "32         and points  0.500000\n",
            "186         points of  0.500000\n"
          ]
        }
      ],
      "source": [
        "import nltk\n",
        "import re\n",
        "from sklearn.feature_extraction.text import CountVectorizer, TfidfVectorizer\n",
        "from nltk.corpus import stopwords\n",
        "from nltk.tokenize import word_tokenize\n",
        "import pandas as pd\n",
        "\n",
        "# Getting bigrams\n",
        "vectorizer = CountVectorizer(ngram_range =(2, 2))\n",
        "X1 = vectorizer.fit_transform(line_list)\n",
        "features = (vectorizer.get_feature_names_out())\n",
        "# print(\"\\n\\nX1 : \\n\", X1.toarray())\n",
        "\n",
        "# Applying TFIDF\n",
        "# You can still get n-grams here\n",
        "vectorizer = TfidfVectorizer(ngram_range = (2, 2))\n",
        "X2 = vectorizer.fit_transform(line_list)\n",
        "scores = (X2.toarray())\n",
        "# print(\"\\n\\nScores : \\n\", scores)\n",
        "\n",
        "# Getting top ranking features\n",
        "sums = X2.sum(axis = 0)\n",
        "data1 = []\n",
        "for col, term in enumerate(features):\n",
        "    data1.append( (term, sums[0, col] ))\n",
        "ranking = pd.DataFrame(data1, columns = ['term', 'rank'])\n",
        "words = (ranking.sort_values('rank', ascending = False))\n",
        "print (\"\\n\\nWords : \\n\", words.head(7))"
      ]
    },
    {
      "cell_type": "code",
      "execution_count": 26,
      "metadata": {
        "colab": {
          "base_uri": "https://localhost:8080/"
        },
        "id": "-QuLvA2vf_Iv",
        "outputId": "0cae6038-51ef-441e-a9ef-985c919065c5"
      },
      "outputs": [
        {
          "output_type": "stream",
          "name": "stdout",
          "text": [
            "Number of times data analytics appear together: 6\n",
            "Number of times only analytics appear in complete text: 10\n"
          ]
        }
      ],
      "source": [
        "#The probability of an event A is the number of ways event A can occur divided by the total number of possible outcomes.\n",
        "import re\n",
        "from collections import Counter\n",
        "bigramwords = re.findall('\\w+', given_string)\n",
        "bigram_counts = Counter(zip(bigramwords,bigramwords[1:]))\n",
        "data_analytics_count = bigram_counts[(\"data\", \"analytics\")]\n",
        "print(f\"Number of times data analytics appear together: {data_analytics_count}\")\n",
        "print(f\"Number of times only analytics appear in complete text: {analytics_count}\")"
      ]
    },
    {
      "cell_type": "code",
      "execution_count": 27,
      "metadata": {
        "colab": {
          "base_uri": "https://localhost:8080/"
        },
        "id": "gsotwnPLf_Iv",
        "outputId": "5703b6d0-f0f5-480f-9fcc-cdef3397a028"
      },
      "outputs": [
        {
          "output_type": "stream",
          "name": "stdout",
          "text": [
            "Probablity of analytics appearing after data: 0.6\n"
          ]
        }
      ],
      "source": [
        "print(f\"Probablity of analytics appearing after data: {data_analytics_count/analytics_count}\")"
      ]
    },
    {
      "cell_type": "code",
      "execution_count": null,
      "metadata": {
        "id": "nPidm23tf_Iw"
      },
      "outputs": [],
      "source": []
    },
    {
      "cell_type": "code",
      "execution_count": null,
      "metadata": {
        "id": "1nsqP3Byf_Iw"
      },
      "outputs": [],
      "source": []
    },
    {
      "cell_type": "code",
      "execution_count": null,
      "metadata": {
        "id": "PQdrM5Xkf_Iw"
      },
      "outputs": [],
      "source": []
    }
  ],
  "metadata": {
    "kernelspec": {
      "display_name": "Python 3",
      "language": "python",
      "name": "python3"
    },
    "language_info": {
      "codemirror_mode": {
        "name": "ipython",
        "version": 3
      },
      "file_extension": ".py",
      "mimetype": "text/x-python",
      "name": "python",
      "nbconvert_exporter": "python",
      "pygments_lexer": "ipython3",
      "version": "3.7.4"
    },
    "colab": {
      "provenance": [],
      "include_colab_link": true
    }
  },
  "nbformat": 4,
  "nbformat_minor": 0
}